{
 "cells": [
  {
   "cell_type": "markdown",
   "metadata": {},
   "source": [
    "#Basic data types"
   ]
  },
  {
   "cell_type": "markdown",
   "metadata": {},
   "source": [
    "- list comprehensions "
   ]
  },
  {
   "cell_type": "code",
   "execution_count": null,
   "metadata": {},
   "outputs": [],
   "source": [
    "if __name__ == '__main__':\n",
    "    x = int(input())\n",
    "    y = int(input())\n",
    "    z = int(input())\n",
    "    n = int(input())\n",
    "    result=[[i,t,o]\n",
    "    for i in range(x+1) \n",
    "      for t in range(y+1) \n",
    "        for o in range(z+1) if n!= i+t+o ]\n",
    "    print(result)\n",
    "    "
   ]
  },
  {
   "cell_type": "markdown",
   "metadata": {},
   "source": [
    "- finding the percentage"
   ]
  },
  {
   "cell_type": "code",
   "execution_count": null,
   "metadata": {},
   "outputs": [],
   "source": [
    "if __name__ == '__main__':\n",
    "    n = int(input())\n",
    "    student_marks = {}\n",
    "    for _ in range(n):\n",
    "        name, *line = input().split()\n",
    "        scores = list(map(float, line))\n",
    "        student_marks[name] = scores\n",
    "    query_name = input()\n",
    "    query_score= list(student_marks[query_name])\n",
    "    average=sum(query_score)/len(query_score)\n",
    "    print(\"%.2f\"%average)\n"
   ]
  },
  {
   "cell_type": "markdown",
   "metadata": {},
   "source": [
    "- Find the Runner-Up Score!"
   ]
  },
  {
   "cell_type": "code",
   "execution_count": null,
   "metadata": {},
   "outputs": [],
   "source": [
    "if __name__ == '__main__':\n",
    "    n = int(input())\n",
    "    arr = map(int, input().split())\n",
    "    lista= list(arr)\n",
    "    scores= set(lista)\n",
    "    scoreslist=list(scores)\n",
    "    scoreslist.sort(reverse=True)\n",
    "    mx= max(scoreslist)\n",
    "    scoreslist.remove(mx)\n",
    "    result=max(scoreslist)\n",
    "    print(result)"
   ]
  },
  {
   "cell_type": "markdown",
   "metadata": {},
   "source": [
    "- lists"
   ]
  },
  {
   "cell_type": "code",
   "execution_count": null,
   "metadata": {},
   "outputs": [],
   "source": [
    "if __name__ == '__main__':\n",
    "  if __name__ == '__main__':\n",
    "    lines = int(input())\n",
    "    mylist=[];\n",
    "    for i in range(0,lines):\n",
    "        com=input().split();\n",
    "        if com[0] == \"insert\":\n",
    "            mylist.insert(int(com[1]),int(com[2]))\n",
    "        elif com[0] == \"append\":\n",
    "            mylist.append(int(com[1]))\n",
    "        elif com[0] == \"pop\":\n",
    "            mylist.pop();\n",
    "        elif com[0] == \"print\":\n",
    "            print(mylist)\n",
    "        elif com[0] == \"remove\":\n",
    "            mylist.remove(int(com[1]))\n",
    "        elif com[0] == \"sort\":\n",
    "            mylist.sort();\n",
    "        else:\n",
    "            mylist.reverse();\n",
    "    "
   ]
  },
  {
   "cell_type": "markdown",
   "metadata": {},
   "source": []
  }
 ],
 "metadata": {
  "kernelspec": {
   "display_name": "Python 3.10.1 64-bit",
   "language": "python",
   "name": "python3"
  },
  "language_info": {
   "codemirror_mode": {
    "name": "ipython",
    "version": 3
   },
   "file_extension": ".py",
   "mimetype": "text/x-python",
   "name": "python",
   "nbconvert_exporter": "python",
   "pygments_lexer": "ipython3",
   "version": "3.10.1"
  },
  "orig_nbformat": 4,
  "vscode": {
   "interpreter": {
    "hash": "afb734500600fd355917ca529030176ea0ca205570884b88f2f6f7d791fd3fbe"
   }
  }
 },
 "nbformat": 4,
 "nbformat_minor": 2
}
